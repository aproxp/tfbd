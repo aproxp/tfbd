{
 "metadata": {
  "name": ""
 },
 "nbformat": 3,
 "nbformat_minor": 0,
 "worksheets": [
  {
   "cells": [
    {
     "cell_type": "heading",
     "level": 1,
     "metadata": {},
     "source": [
      "Assignment 2"
     ]
    },
    {
     "cell_type": "raw",
     "metadata": {},
     "source": [
      "NOTE: all the outputs are presented right below the input scripts. Comments are present in text fields, as well as within the code. SQL queries are extracted to raw text."
     ]
    },
    {
     "cell_type": "code",
     "collapsed": false,
     "input": [],
     "language": "python",
     "metadata": {},
     "outputs": [],
     "prompt_number": 15
    },
    {
     "cell_type": "heading",
     "level": 2,
     "metadata": {},
     "source": [
      "Exercise 5.1"
     ]
    },
    {
     "cell_type": "raw",
     "metadata": {},
     "source": [
      "For SQLite: Establish connection to this database in Python (use the sqlite3 module). Document the connection by making some simple queries.\n",
      "\n",
      "For Mongo: To get started, clone this repository into your working directory. Start a running instance of MongoDB* (on command-line: mongod), then run the .sh file in a terminal. This should create a live Mongo database named \u2018Northwind\u2019 that you can connect to in Python. Document the connection by making some simple queries."
     ]
    },
    {
     "cell_type": "heading",
     "level": 3,
     "metadata": {},
     "source": [
      "SQLite code (connection to northwind database together with some example queries):"
     ]
    },
    {
     "cell_type": "code",
     "collapsed": false,
     "input": [
      "import sqlite3 as lite\n",
      "\n",
      "con = None\n",
      "\n",
      "con = lite.connect('northwind.db')\n",
      "con.text_factory = lambda x: str(x, 'latin1')\n",
      "cur = con.cursor()\n",
      "\n",
      "with con:\n",
      "    # some queries, just to confirm that we have connection\n",
      "    cur.execute(\"SELECT LastName, FirstName FROM Employees\")\n",
      "    print(cur.fetchall())\n",
      "    cur.execute(\"SELECT LastName FROM Employees WHERE EmployeeID = 1\")\n",
      "    print(cur.fetchone())\n",
      "    cur.execute(\"SELECT FirstName FROM Employees ORDER BY FirstName ASC\")\n",
      "    print(cur.fetchall())"
     ],
     "language": "python",
     "metadata": {},
     "outputs": [
      {
       "output_type": "stream",
       "stream": "stdout",
       "text": [
        "[('Davolio', 'Nancy'), ('Fuller', 'Andrew'), ('Leverling', 'Janet'), ('Peacock', 'Margaret'), ('Buchanan', 'Steven'), ('Suyama', 'Michael'), ('King', 'Robert'), ('Callahan', 'Laura'), ('Dodsworth', 'Anne')]\n",
        "('Davolio',)\n",
        "[('Andrew',), ('Anne',), ('Janet',), ('Laura',), ('Margaret',), ('Michael',), ('Nancy',), ('Robert',), ('Steven',)]\n"
       ]
      }
     ],
     "prompt_number": 16
    },
    {
     "cell_type": "heading",
     "level": 3,
     "metadata": {},
     "source": [
      "Connection to MongoDB with sample queries:"
     ]
    },
    {
     "cell_type": "code",
     "collapsed": false,
     "input": [
      "from pymongo import MongoClient\n",
      "# Connect to the database\n",
      "\n",
      "client = MongoClient()\n",
      "db = client['Northwind']\n",
      "products = db.products\n",
      "\n",
      "# Simple queries to prove that the connection is working\n",
      "print('Collection list:')\n",
      "print(db.collection_names())\n",
      "print('Number of products:')\n",
      "print(products.count())\n",
      "print('Name of one product:')\n",
      "print(products.find_one()['ProductName'])"
     ],
     "language": "python",
     "metadata": {},
     "outputs": [
      {
       "output_type": "stream",
       "stream": "stdout",
       "text": [
        "Collection list:\n",
        "['system.indexes', 'categories', 'customers', 'employees', 'employee-territories', 'northwind', 'order-details', 'orders', 'products', 'regions', 'shippers', 'suppliers', 'territories']\n",
        "Number of products:\n",
        "77\n",
        "Name of one product:\n",
        "Chai\n"
       ]
      }
     ],
     "prompt_number": 14
    },
    {
     "cell_type": "heading",
     "level": 2,
     "metadata": {},
     "source": [
      "Exercise 5.2"
     ]
    },
    {
     "cell_type": "raw",
     "metadata": {},
     "source": [
      "The customer with customerID ALFKI has made a number of orders containing some products. Query for, and return, all orders made by ALFKI and the products they contain.\n",
      "\n",
      "SQL Query retrieving names, unit prices quantities of the products under specific orders, described by their ID: \n",
      "\n",
      "SELECT pr.ProductName, od.UnitPrice, od.Quantity, od.OrderID  FROM Products pr JOIN \"Order Details\" od ON pr.ProductID = od.ProductID JOIN Orders o ON od.OrderID = o.OrderID WHERE o.CustomerID = \"ALFKI\"\n",
      "\n",
      "The Python code, shown below, executes the query and prints the result, grouping the records by order numbers."
     ]
    },
    {
     "cell_type": "code",
     "collapsed": false,
     "input": [
      "cur.execute('SELECT pr.ProductName, od.UnitPrice, od.Quantity, od.OrderID  FROM Products pr JOIN \"Order Details\" od ON'\n",
      "            ' pr.ProductID = od.ProductID JOIN Orders o ON od.OrderID = o.OrderID WHERE o.CustomerID = \"ALFKI\"')\n",
      "results = cur.fetchall()\n",
      "\n",
      "alfki_product_list = []  # this list will be needed for 5.7\n",
      "cur_order_id = 0\n",
      "\n",
      "for row in results:\n",
      "    if row[-1] == cur_order_id:  # if it's still the same order, we go on printing...\n",
      "        print(\"Product Name: {} Unit Price: {} Quantity: {} \".format(row[0], row[1], row[2]))\n",
      "    else:  # ...unless it's new one - time to print new order number as well.\n",
      "        print(\"Order number {}:\".format(row[-1]))\n",
      "        print(\"Product Name: {} Unit Price: {} Quantity: {} \".format(row[0], row[1], row[2]))\n",
      "        cur_order_id = row[-1]\n",
      "    alfki_product_list.append(row[0])"
     ],
     "language": "python",
     "metadata": {},
     "outputs": [
      {
       "output_type": "stream",
       "stream": "stdout",
       "text": [
        "Order number 10643:\n",
        "Product Name: R\u00f6ssle Sauerkraut Unit Price: 45.6 Quantity: 15 \n",
        "Product Name: Chartreuse verte Unit Price: 18 Quantity: 21 \n",
        "Product Name: Spegesild Unit Price: 12 Quantity: 2 \n",
        "Order number 10692:\n",
        "Product Name: Vegie-spread Unit Price: 43.9 Quantity: 20 \n",
        "Order number 10702:\n",
        "Product Name: Aniseed Syrup Unit Price: 10 Quantity: 6 \n",
        "Product Name: Lakkalik\u00f6\u00f6ri Unit Price: 18 Quantity: 15 \n",
        "Order number 10835:\n",
        "Product Name: Raclette Courdavault Unit Price: 55 Quantity: 15 \n",
        "Product Name: Original Frankfurter gr\u00fcne So\u00dfe Unit Price: 13 Quantity: 2 \n",
        "Order number 10952:\n",
        "Product Name: Grandma's Boysenberry Spread Unit Price: 25 Quantity: 16 \n",
        "Product Name: R\u00f6ssle Sauerkraut Unit Price: 45.6 Quantity: 2 \n",
        "Order number 11011:\n",
        "Product Name: Escargots de Bourgogne Unit Price: 13.25 Quantity: 40 \n",
        "Product Name: Flotemysost Unit Price: 21.5 Quantity: 20 \n"
       ]
      }
     ],
     "prompt_number": 17
    },
    {
     "cell_type": "raw",
     "metadata": {},
     "source": [
      "MongoDB equivalent uses more granular quries. We loop over all orders of ALFKI and print the products they contain. We also fill the set of products ALFKI has bought, to be used in Exercise 5.7"
     ]
    },
    {
     "cell_type": "code",
     "collapsed": false,
     "input": [
      "# Create new collections of documents\n",
      "customers = db.customers\n",
      "orders = db.orders\n",
      "order_details = db['order-details']\n",
      "\n",
      "# Set below is needed in 5.7\n",
      "alfki_products = set()\n",
      "\n",
      "# Iterate over all orders where the CustomerID is\n",
      "# ALFKI, and then match ProductID in order-details\n",
      "# to the one products. We also fill the alfki_producst set\n",
      "for order in orders.find({\"CustomerID\": \"ALFKI\"}):\n",
      "    print('Order ID: {}'.format(order['OrderID']))\n",
      "    for order_detail in order_details.find({\"OrderID\": order['OrderID']}):\n",
      "        print('\\t' + str(products.find_one({\"ProductID\": order_detail[\"ProductID\"]})['ProductName']))\n",
      "        alfki_products.add(order_detail['ProductID'])\n",
      "    "
     ],
     "language": "python",
     "metadata": {},
     "outputs": [
      {
       "output_type": "stream",
       "stream": "stdout",
       "text": [
        "Order ID: 10643\n",
        "\tR\u00f6ssle Sauerkraut\n",
        "\tChartreuse verte\n",
        "\tSpegesild\n",
        "Order ID: 10692\n",
        "\tVegie-spread\n",
        "Order ID: 10702\n",
        "\tAniseed Syrup\n",
        "\tLakkalik\u00f6\u00f6ri\n",
        "Order ID: 10835\n",
        "\tRaclette Courdavault\n",
        "\tOriginal Frankfurter gr\u00fcne So\u00dfe\n",
        "Order ID: 10952\n",
        "\tGrandma's Boysenberry Spread\n",
        "\tR\u00f6ssle Sauerkraut\n",
        "Order ID: 11011\n",
        "\tEscargots de Bourgogne\n",
        "\tFlotemysost\n"
       ]
      }
     ],
     "prompt_number": 21
    },
    {
     "cell_type": "heading",
     "level": 2,
     "metadata": {},
     "source": [
      "Exercise 5.3"
     ]
    },
    {
     "cell_type": "raw",
     "metadata": {},
     "source": [
      "Get all orders (with products) made by ALFKI that contain at least 2 product types.\n",
      "\n",
      "To do this exercise we used 2 SQL queries:\n",
      "1) SELECT od.OrderID FROM \"Order Details\" od LEFT JOIN Products pr ON pr.ProductID = od.ProductID\n",
      "             LEFT JOIN Orders o ON od.OrderID = o.OrderID WHERE o.CustomerID = \"ALFKI\" GROUP BY o.OrderID\n",
      "             HAVING COUNT(DISTINCT pr.ProductID) >= 2\n",
      "2) SELECT pr.ProductName FROM Products pr JOIN \"Order Details\" od ON pr.ProductID = od.ProductID WHERE od.OrderID = {order}\n",
      "NOTE: {order} means, that OrderID is parametrised in Python.\n",
      "\n",
      "The first query gets all the ALFKI's orders containing at least 2 different product types, whereas the second one enables us to print out all the products assigned to each of the orders."
     ]
    },
    {
     "cell_type": "code",
     "collapsed": false,
     "input": [
      "cur.execute('SELECT od.OrderID FROM \"Order Details\" od LEFT JOIN Products pr ON pr.ProductID = od.ProductID'\n",
      "            ' LEFT JOIN Orders o ON od.OrderID = o.OrderID WHERE o.CustomerID = \"ALFKI\" GROUP BY o.OrderID'\n",
      "            ' HAVING COUNT(DISTINCT pr.ProductID) >= 2')\n",
      "orders = [order[0] for order in cur.fetchall()]\n",
      "for order in orders:\n",
      "    cur.execute('SELECT pr.ProductName FROM Products pr JOIN \"Order Details\" od ON'\n",
      "                ' pr.ProductID = od.ProductID WHERE od.OrderID = {order}'.format(order=order))\n",
      "    print(\"Order ID: {} , products: {}\".format(order, cur.fetchall()))\n"
     ],
     "language": "python",
     "metadata": {},
     "outputs": [
      {
       "output_type": "stream",
       "stream": "stdout",
       "text": [
        "Order ID: 10643 , products: [('R\u00f6ssle Sauerkraut',), ('Chartreuse verte',), ('Spegesild',)]\n",
        "Order ID: 10702 , products: [('Aniseed Syrup',), ('Lakkalik\u00f6\u00f6ri',)]\n",
        "Order ID: 10835 , products: [('Raclette Courdavault',), ('Original Frankfurter gr\u00fcne So\u00dfe',)]\n",
        "Order ID: 10952 , products: [(\"Grandma's Boysenberry Spread\",), ('R\u00f6ssle Sauerkraut',)]\n",
        "Order ID: 11011 , products: [('Escargots de Bourgogne',), ('Flotemysost',)]\n"
       ]
      }
     ],
     "prompt_number": 19
    },
    {
     "cell_type": "raw",
     "metadata": {},
     "source": [
      "The mongodb version is almost the same as for the last exercise, but uses the conditional find on the count of orderIDs in order_details associated with each order."
     ]
    },
    {
     "cell_type": "code",
     "collapsed": false,
     "input": [
      "for order in orders.find({\"CustomerID\": \"ALFKI\"}):\n",
      "    if order_details.find({'OrderID': order['OrderID']}).count() >= 2:\n",
      "        print('Order ID: {}'.format(order['OrderID']))\n",
      "        for order_detail in order_details.find({\"OrderID\": order['OrderID']}):\n",
      "            print('\\t' + products.find_one({\"ProductID\": order_detail[\"ProductID\"]})['ProductName'])\n",
      "    "
     ],
     "language": "python",
     "metadata": {},
     "outputs": [
      {
       "output_type": "stream",
       "stream": "stdout",
       "text": [
        "Order ID: 10643\n",
        "\tR\u00f6ssle Sauerkraut\n",
        "\tChartreuse verte\n",
        "\tSpegesild\n",
        "Order ID: 10702\n",
        "\tAniseed Syrup\n",
        "\tLakkalik\u00f6\u00f6ri\n",
        "Order ID: 10835\n",
        "\tRaclette Courdavault\n",
        "\tOriginal Frankfurter gr\u00fcne So\u00dfe\n",
        "Order ID: 10952\n",
        "\tGrandma's Boysenberry Spread\n",
        "\tR\u00f6ssle Sauerkraut\n",
        "Order ID: 11011\n",
        "\tEscargots de Bourgogne\n",
        "\tFlotemysost\n"
       ]
      }
     ],
     "prompt_number": 22
    },
    {
     "cell_type": "heading",
     "level": 2,
     "metadata": {},
     "source": [
      "Exercise 5.4"
     ]
    },
    {
     "cell_type": "raw",
     "metadata": {},
     "source": [
      "Determine how many and who ordered \u201cUncle Bob\u2019s Organic Dried Pears\u201d (productID 7).\n",
      "\n",
      "SQL query for this exercise:\n",
      "SELECT c.ContactName FROM Customers c JOIN Orders o ON c.CustomerID = o.CustomerID JOIN \"Order Details\" od\n",
      "            ON o.OrderID = od.OrderID JOIN Products p ON od.ProductID = p.ProductID WHERE p.ProductID = 7\n",
      "This returns a tuple of people, who bought the product of ID=7. Then we create a dictionary, which will be also used for next exercises and which carries the information about the number of Dried Pears ('how_many_7' key), associated to each person. Since the exercise could be interpreted as \"Who ordered how many\", as well as \"How many people ordered this\", the output shows both versions."
     ]
    },
    {
     "cell_type": "code",
     "collapsed": false,
     "input": [
      "cur.execute('SELECT c.CompanyName FROM Customers c JOIN Orders o ON c.CustomerID = o.CustomerID JOIN \"Order Details\" od'\n",
      "            ' ON o.OrderID = od.OrderID JOIN Products p ON od.ProductID = p.ProductID WHERE p.ProductID = 7')\n",
      "results = cur.fetchall()\n",
      "people_dict = {}\n",
      "how_many = 0\n",
      "for record in results:\n",
      "    person = record[0]  # e.g: John Smith\n",
      "    if person not in people_dict.keys():\n",
      "        people_dict[person] = {'how_many_7': 1}  # first occurrence, at least one product\n",
      "    else:\n",
      "        people_dict[person]['how_many_7'] += 1\n",
      "print('{} distinct customers have ordered Uncle Bob\u2019s Organic Dried Pears:'.format(len(people_dict)))\n",
      "for cust in people_dict.keys():\n",
      "    print(cust)"
     ],
     "language": "python",
     "metadata": {},
     "outputs": [
      {
       "output_type": "stream",
       "stream": "stdout",
       "text": [
        "20 have ordered Uncle Bob\u2019s Organic Dried Pears:\n",
        "Rattlesnake Canyon Grocery\n",
        "Victuailles en stock\n",
        "Save-a-lot Markets\n",
        "Ernst Handel\n",
        "Bottom-Dollar Markets\n",
        "QUICK-Stop\n",
        "B's Beverages\n",
        "Bon app'\n",
        "Split Rail Beer & Ale\n",
        "Sant\u00e9 Gourmet\n",
        "Vaffeljernet\n",
        "Ottilies K\u00e4seladen\n",
        "Reggiani Caseifici\n",
        "Eastern Connection\n",
        "Folies gourmandes\n",
        "LILA-Supermercado\n",
        "Folk och f\u00e4 HB\n",
        "Oc\u00e9ano Atl\u00e1ntico Ltda.\n",
        "La corne d'abondance\n",
        "Gourmet Lanchonetes\n"
       ]
      }
     ],
     "prompt_number": 54
    },
    {
     "cell_type": "raw",
     "metadata": {},
     "source": [
      "Our mongo code for this exercise loops over all orders that contain the Pears and adds the customers to the customer set."
     ]
    },
    {
     "cell_type": "code",
     "collapsed": false,
     "input": [
      "# counter of people who have ordered the product\n",
      "bobs_count = 0\n",
      "# set of the customers who have bought pears\n",
      "bobs_customer_set = set()\n",
      "\n",
      "for order_detail in order_details.find({'ProductID': 7}):\n",
      "    for order in orders.find({'OrderID': order_detail['OrderID']}):\n",
      "        if not order['CustomerID'] in bobs_customer_set:\n",
      "            bobs_count += 1\n",
      "            bobs_customer_set.add(order['CustomerID'])\n",
      " \n",
      "print('There were {} distinct customers who ordered Uncle Bob\u2019s Organic Dried Pears:'\n",
      "      .format(bobs_count))\n",
      "for customer in bobs_customer_set:\n",
      "    print(customers.find_one({'CustomerID': customer})['CompanyName'])\n",
      "\n",
      "    "
     ],
     "language": "python",
     "metadata": {},
     "outputs": [
      {
       "output_type": "stream",
       "stream": "stdout",
       "text": [
        "There were 20 distinct customers who ordered Uncle Bob\u2019s Organic Dried Pears:\n",
        "Bon app'\n",
        "Save-a-lot Markets\n",
        "Folk och f\u00e4 HB\n",
        "Bottom-Dollar Markets\n",
        "Ottilies K\u00e4seladen\n",
        "B's Beverages\n",
        "Oc\u00e9ano Atl\u00e1ntico Ltda.\n",
        "Sant\u00e9 Gourmet\n",
        "Reggiani Caseifici\n",
        "Split Rail Beer & Ale\n",
        "Folies gourmandes\n",
        "Gourmet Lanchonetes\n",
        "La corne d'abondance\n",
        "Rattlesnake Canyon Grocery\n",
        "Vaffeljernet\n",
        "QUICK-Stop\n",
        "Ernst Handel\n",
        "Eastern Connection\n",
        "Victuailles en stock\n",
        "LILA-Supermercado\n"
       ]
      }
     ],
     "prompt_number": 30
    },
    {
     "cell_type": "heading",
     "level": 2,
     "metadata": {},
     "source": [
      "Exercise 5.5"
     ]
    },
    {
     "cell_type": "raw",
     "metadata": {},
     "source": [
      "How many different and which products have been ordered by customers who have also ordered \u201cUncle Bob\u2019s Organic Dried Pears\u201d?\n",
      "\n",
      "We applied 2 SQL queries to accomplish this task:\n",
      "1) SELECT c.ContactName, COUNT(DISTINCT p.ProductID) FROM Products p JOIN \"Order Details\" od ON\n",
      "             p.ProductID = od.ProductID JOIN Orders o ON od.OrderID = o.OrderID JOIN Customers c ON\n",
      "             o.CustomerID = c.CustomerID GROUP BY c.ContactName\n",
      "2) SELECT DISTINCT p.ProductName FROM Products p JOIN \"Order Details\" od ON\n",
      "                 p.ProductID = od.ProductID JOIN Orders o ON od.OrderID = o.OrderID JOIN Customers c ON\n",
      "                 o.CustomerID = c.CustomerID WHERE c.ContactName = \"{name}\"\n",
      "Query 1) associates customers and the number of distinct products they ordered. Query 2) gets sets of product names for each of the customers, whose name is a Python variable. All the results are included in people_dict structure under 'how_many_different_products' and 'products_ordered' keys."
     ]
    },
    {
     "cell_type": "code",
     "collapsed": false,
     "input": [
      "#how many different\n",
      "cur.execute('SELECT c.ContactName, COUNT(DISTINCT p.ProductID) FROM Products p JOIN \"Order Details\" od ON'\n",
      "            ' p.ProductID = od.ProductID JOIN Orders o ON od.OrderID = o.OrderID JOIN Customers c ON'\n",
      "            ' o.CustomerID = c.CustomerID GROUP BY c.ContactName')\n",
      "results = cur.fetchall()\n",
      "for record in results:\n",
      "    person = record[0]\n",
      "    if person in people_dict.keys():\n",
      "        people_dict[person]['how_many_different_products'] = record[1]\n",
      "print(people_dict)\n",
      "#which\n",
      "for human in people_dict.keys():\n",
      "    cur.execute('SELECT DISTINCT p.ProductName FROM Products p JOIN \"Order Details\" od ON'\n",
      "                ' p.ProductID = od.ProductID JOIN Orders o ON od.OrderID = o.OrderID JOIN Customers c ON'\n",
      "                ' o.CustomerID = c.CustomerID WHERE c.ContactName = \"{name}\"'.format(name=human))\n",
      "    people_dict[human]['products_ordered'] = [product[0] for product in cur.fetchall()]\n",
      "print(people_dict)"
     ],
     "language": "python",
     "metadata": {},
     "outputs": [
      {
       "output_type": "stream",
       "stream": "stdout",
       "text": [
        "{'Maria Larsson': {'how_many_7': 1, 'how_many_different_products': 30}, 'Ann Devon': {'how_many_7': 2, 'how_many_different_products': 19}, 'Elizabeth Lincoln': {'how_many_7': 1, 'how_many_different_products': 27}, 'Paula Wilson': {'how_many_7': 3, 'how_many_different_products': 45}, 'Horst Kloss': {'how_many_7': 2, 'how_many_different_products': 49}, 'Laurence Lebihan': {'how_many_7': 2, 'how_many_different_products': 34}, 'Art Braunschweiger': {'how_many_7': 1, 'how_many_different_products': 17}, 'Maurizio Moroni': {'how_many_7': 2, 'how_many_different_products': 20}, 'Yvonne Moncada': {'how_many_7': 1, 'how_many_different_products': 11}, 'Daniel Tonini': {'how_many_7': 1, 'how_many_different_products': 11}, 'Andr\u00e9 Fonseca': {'how_many_7': 1, 'how_many_different_products': 17}, 'Victoria Ashworth': {'how_many_7': 2, 'how_many_different_products': 19}, 'Carlos Gonz\u00e1lez': {'how_many_7': 1, 'how_many_different_products': 28}, 'Roland Mendel': {'how_many_7': 1, 'how_many_different_products': 56}, 'Henriette Pfalzheim': {'how_many_7': 2, 'how_many_different_products': 24}, 'Palle Ibsen': {'how_many_7': 1, 'how_many_different_products': 23}, 'Jose Pavarotti': {'how_many_7': 1, 'how_many_different_products': 53}, 'Martine Ranc\u00e9': {'how_many_7': 1, 'how_many_different_products': 15}, 'Mary Saveley': {'how_many_7': 2, 'how_many_different_products': 22}, 'Jonas Bergulfsen': {'how_many_7': 1, 'how_many_different_products': 15}}\n",
        "{'Maria Larsson': {'how_many_7': 1, 'how_many_different_products': 30, 'products_ordered': ['Chang', \"Jack's New England Clam Chowder\", 'Queso Cabrales', 'Nord-Ost Matjeshering', 'Escargots de Bourgogne', 'Flotemysost', 'Lakkalik\u00f6\u00f6ri', 'Scottish Longbreads', 'Rh\u00f6nbr\u00e4u Klosterbier', \"Chef Anton's Cajun Seasoning\", 'Mozzarella di Giovanni', 'R\u00f6d Kaviar', 'Gula Malacca', 'Manjimup Dried Apples', 'Raclette Courdavault', 'Chartreuse verte', 'Zaanse koeken', 'Gnocchi di nonna Alice', 'Gorgonzola Telino', 'Louisiana Hot Spiced Okra', 'Outback Lager', 'Tunnbr\u00f6d', \"Sirop d'\u00e9rable\", 'P\u00e2t\u00e9 chinois', 'Tarte au sucre', 'Vegie-spread', 'Th\u00fcringer Rostbratwurst', \"Uncle Bob's Organic Dried Pears\", \"Gustaf's Kn\u00e4ckebr\u00f6d\", 'Spegesild']}, 'Ann Devon': {'how_many_7': 2, 'how_many_different_products': 19, 'products_ordered': ['Gudbrandsdalsost', 'Flotemysost', 'Th\u00fcringer Rostbratwurst', 'Steeleye Stout', 'Maxilaku', 'Nord-Ost Matjeshering', 'Louisiana Hot Spiced Okra', \"Chef Anton's Cajun Seasoning\", 'Queso Cabrales', \"Uncle Bob's Organic Dried Pears\", 'Ipoh Coffee', 'Mozzarella di Giovanni', 'Gumb\u00e4r Gummib\u00e4rchen', 'Geitost', 'Louisiana Fiery Hot Pepper Sauce', 'Chai', \"Chef Anton's Gumbo Mix\", 'P\u00e2t\u00e9 chinois', 'Camembert Pierrot']}, 'Elizabeth Lincoln': {'how_many_7': 1, 'how_many_different_products': 27, 'products_ordered': ['Ikura', 'P\u00e2t\u00e9 chinois', 'Tarte au sucre', 'Outback Lager', 'Geitost', 'Raclette Courdavault', \"Jack's New England Clam Chowder\", 'Gula Malacca', 'Alice Mutton', 'Boston Crab Meat', 'Zaanse koeken', 'NuNuCa Nu\u00df-Nougat-Creme', 'Singaporean Hokkien Fried Mee', 'Aniseed Syrup', 'Camembert Pierrot', 'Mozzarella di Giovanni', 'Chai', 'Queso Cabrales', 'Gnocchi di nonna Alice', \"Grandma's Boysenberry Spread\", 'Northwoods Cranberry Sauce', 'Rh\u00f6nbr\u00e4u Klosterbier', \"Uncle Bob's Organic Dried Pears\", 'Ipoh Coffee', 'Guaran\u00e1 Fant\u00e1stica', 'Manjimup Dried Apples', 'Scottish Longbreads']}, 'Paula Wilson': {'how_many_7': 3, 'how_many_different_products': 45, 'products_ordered': [\"Chef Anton's Gumbo Mix\", \"Uncle Bob's Organic Dried Pears\", 'Gnocchi di nonna Alice', \"Sir Rodney's Marmalade\", 'Gorgonzola Telino', 'Mozzarella di Giovanni', 'Chai', 'Alice Mutton', 'Ipoh Coffee', 'Camembert Pierrot', 'Rh\u00f6nbr\u00e4u Klosterbier', 'Mascarpone Fabioli', 'Escargots de Bourgogne', 'Tarte au sucre', \"Jack's New England Clam Chowder\", 'Nord-Ost Matjeshering', 'Louisiana Fiery Hot Pepper Sauce', 'Flotemysost', 'C\u00f4te de Blaye', 'Perth Pasties', 'Raclette Courdavault', 'Wimmers gute Semmelkn\u00f6del', 'P\u00e2t\u00e9 chinois', 'Lakkalik\u00f6\u00f6ri', 'Schoggi Schokolade', 'NuNuCa Nu\u00df-Nougat-Creme', 'Chang', 'Queso Cabrales', \"Chef Anton's Cajun Seasoning\", 'Guaran\u00e1 Fant\u00e1stica', 'Original Frankfurter gr\u00fcne So\u00dfe', 'Aniseed Syrup', \"Grandma's Boysenberry Spread\", 'Northwoods Cranberry Sauce', 'Ikura', 'Queso Manchego La Pastora', 'Konbu', 'Tofu', 'Pavlova', 'Tunnbr\u00f6d', 'Chartreuse verte', 'Spegesild', 'Filo Mix', 'Louisiana Hot Spiced Okra', 'R\u00f6d Kaviar']}, 'Horst Kloss': {'how_many_7': 2, 'how_many_different_products': 49, 'products_ordered': ['Ikura', 'Gorgonzola Telino', 'Geitost', 'Boston Crab Meat', 'Lakkalik\u00f6\u00f6ri', 'Chai', 'Perth Pasties', 'Steeleye Stout', 'Tarte au sucre', 'Inlagd Sill', 'Northwoods Cranberry Sauce', 'Teatime Chocolate Biscuits', 'Singaporean Hokkien Fried Mee', 'Chartreuse verte', 'Camembert Pierrot', 'Chang', 'Zaanse koeken', \"Sirop d'\u00e9rable\", 'Longlife Tofu', 'P\u00e2t\u00e9 chinois', 'Wimmers gute Semmelkn\u00f6del', 'Louisiana Fiery Hot Pepper Sauce', 'Original Frankfurter gr\u00fcne So\u00dfe', 'Mishi Kobe Niku', 'Pavlova', 'Schoggi Schokolade', \"Chef Anton's Cajun Seasoning\", 'Aniseed Syrup', 'Gumb\u00e4r Gummib\u00e4rchen', 'C\u00f4te de Blaye', 'Scottish Longbreads', 'Rogede sild', 'Manjimup Dried Apples', 'Carnarvon Tigers', \"Sir Rodney's Scones\", 'Th\u00fcringer Rostbratwurst', 'Ipoh Coffee', 'Gula Malacca', \"Uncle Bob's Organic Dried Pears\", 'Raclette Courdavault', 'Outback Lager', 'Mozzarella di Giovanni', 'Rh\u00f6nbr\u00e4u Klosterbier', 'Tunnbr\u00f6d', 'Escargots de Bourgogne', \"Sir Rodney's Marmalade\", 'Konbu', 'Flotemysost', 'Gudbrandsdalsost']}, 'Laurence Lebihan': {'how_many_7': 2, 'how_many_different_products': 34, 'products_ordered': ['Tourti\u00e8re', 'Carnarvon Tigers', \"Jack's New England Clam Chowder\", 'Ipoh Coffee', 'NuNuCa Nu\u00df-Nougat-Creme', 'Manjimup Dried Apples', 'Tunnbr\u00f6d', 'Wimmers gute Semmelkn\u00f6del', \"Chef Anton's Cajun Seasoning\", \"Uncle Bob's Organic Dried Pears\", 'Northwoods Cranberry Sauce', 'Inlagd Sill', 'Boston Crab Meat', 'Singaporean Hokkien Fried Mee', 'Ikura', 'Flotemysost', 'Pavlova', 'Gorgonzola Telino', 'Louisiana Fiery Hot Pepper Sauce', 'Lakkalik\u00f6\u00f6ri', 'Zaanse koeken', 'Gnocchi di nonna Alice', 'Ravioli Angelo', 'Gudbrandsdalsost', 'Chartreuse verte', \"Grandma's Boysenberry Spread\", 'Alice Mutton', 'Spegesild', 'Tarte au sucre', 'Mozzarella di Giovanni', 'Rh\u00f6nbr\u00e4u Klosterbier', 'Konbu', 'Tofu', 'Teatime Chocolate Biscuits']}, 'Art Braunschweiger': {'how_many_7': 1, 'how_many_different_products': 17, 'products_ordered': ['Geitost', 'Teatime Chocolate Biscuits', 'Nord-Ost Matjeshering', 'C\u00f4te de Blaye', 'Gnocchi di nonna Alice', 'Tourti\u00e8re', 'Th\u00fcringer Rostbratwurst', \"Uncle Bob's Organic Dried Pears\", 'Camembert Pierrot', 'Scottish Longbreads', 'Gumb\u00e4r Gummib\u00e4rchen', 'Carnarvon Tigers', 'Inlagd Sill', 'Gudbrandsdalsost', 'Steeleye Stout', 'Manjimup Dried Apples', 'Vegie-spread']}, 'Maurizio Moroni': {'how_many_7': 2, 'how_many_different_products': 20, 'products_ordered': ['Tourti\u00e8re', 'Scottish Longbreads', 'Spegesild', 'Queso Cabrales', 'R\u00f6ssle Sauerkraut', 'Geitost', 'Tarte au sucre', 'Filo Mix', \"Jack's New England Clam Chowder\", 'Alice Mutton', 'Gnocchi di nonna Alice', 'Raclette Courdavault', 'Gorgonzola Telino', 'Mozzarella di Giovanni', 'Original Frankfurter gr\u00fcne So\u00dfe', \"Uncle Bob's Organic Dried Pears\", 'Maxilaku', 'Guaran\u00e1 Fant\u00e1stica', 'Perth Pasties', 'Outback Lager']}, 'Yvonne Moncada': {'how_many_7': 1, 'how_many_different_products': 11, 'products_ordered': ['Tofu', \"Sir Rodney's Scones\", 'Raclette Courdavault', 'Konbu', \"Chef Anton's Gumbo Mix\", \"Uncle Bob's Organic Dried Pears\", 'Mozzarella di Giovanni', 'Queso Cabrales', \"Sir Rodney's Marmalade\", 'Lakkalik\u00f6\u00f6ri', 'Original Frankfurter gr\u00fcne So\u00dfe']}, 'Daniel Tonini': {'how_many_7': 1, 'how_many_different_products': 11, 'products_ordered': [\"Uncle Bob's Organic Dried Pears\", 'Schoggi Schokolade', 'Outback Lager', \"Sir Rodney's Marmalade\", 'Filo Mix', 'Lakkalik\u00f6\u00f6ri', 'Alice Mutton', 'Geitost', 'Gumb\u00e4r Gummib\u00e4rchen', \"Jack's New England Clam Chowder\", 'Rh\u00f6nbr\u00e4u Klosterbier']}, 'Andr\u00e9 Fonseca': {'how_many_7': 1, 'how_many_different_products': 17, 'products_ordered': []}, 'Victoria Ashworth': {'how_many_7': 2, 'how_many_different_products': 19, 'products_ordered': ['Aniseed Syrup', 'Wimmers gute Semmelkn\u00f6del', \"Uncle Bob's Organic Dried Pears\", 'Gnocchi di nonna Alice', \"Sir Rodney's Scones\", 'Boston Crab Meat', 'Manjimup Dried Apples', 'Outback Lager', 'Mozzarella di Giovanni', 'Konbu', 'Geitost', 'Maxilaku', 'Steeleye Stout', 'Ravioli Angelo', 'Tarte au sucre', \"Gustaf's Kn\u00e4ckebr\u00f6d\", 'Spegesild', 'Raclette Courdavault', 'Ipoh Coffee']}, 'Carlos Gonz\u00e1lez': {'how_many_7': 1, 'how_many_different_products': 28, 'products_ordered': []}, 'Roland Mendel': {'how_many_7': 1, 'how_many_different_products': 56, 'products_ordered': ['Chang', \"Chef Anton's Gumbo Mix\", 'Mascarpone Fabioli', 'Pavlova', 'Guaran\u00e1 Fant\u00e1stica', 'Nord-Ost Matjeshering', 'Longlife Tofu', 'C\u00f4te de Blaye', \"Jack's New England Clam Chowder\", 'Gula Malacca', 'Louisiana Fiery Hot Pepper Sauce', \"Sir Rodney's Scones\", 'R\u00f6ssle Sauerkraut', 'Ravioli Angelo', 'Wimmers gute Semmelkn\u00f6del', 'Carnarvon Tigers', 'Th\u00fcringer Rostbratwurst', 'Geitost', 'Gorgonzola Telino', 'Steeleye Stout', 'Spegesild', 'Mozzarella di Giovanni', 'Tunnbr\u00f6d', 'Vegie-spread', 'Chocolade', 'Alice Mutton', 'Gnocchi di nonna Alice', 'Raclette Courdavault', 'Queso Cabrales', 'Tourti\u00e8re', 'Louisiana Hot Spiced Okra', \"Sir Rodney's Marmalade\", 'Rh\u00f6nbr\u00e4u Klosterbier', 'Tofu', 'Singaporean Hokkien Fried Mee', \"Sirop d'\u00e9rable\", 'Gudbrandsdalsost', 'Queso Manchego La Pastora', 'Konbu', 'Gumb\u00e4r Gummib\u00e4rchen', 'Tarte au sucre', 'Flotemysost', 'Outback Lager', 'Aniseed Syrup', 'Chartreuse verte', 'Rogede sild', 'Manjimup Dried Apples', \"Gustaf's Kn\u00e4ckebr\u00f6d\", 'Camembert Pierrot', 'Ikura', 'Boston Crab Meat', \"Uncle Bob's Organic Dried Pears\", 'Schoggi Schokolade', 'Sasquatch Ale', 'P\u00e2t\u00e9 chinois', 'Valkoinen suklaa']}, 'Henriette Pfalzheim': {'how_many_7': 2, 'how_many_different_products': 24, 'products_ordered': [\"Jack's New England Clam Chowder\", 'Ravioli Angelo', 'Tarte au sucre', 'Outback Lager', 'Queso Cabrales', 'Gudbrandsdalsost', 'Flotemysost', 'Konbu', 'Chartreuse verte', 'Pavlova', 'Tunnbr\u00f6d', 'Original Frankfurter gr\u00fcne So\u00dfe', 'Tofu', 'Louisiana Fiery Hot Pepper Sauce', 'Boston Crab Meat', 'Zaanse koeken', 'Camembert Pierrot', 'Chang', \"Uncle Bob's Organic Dried Pears\", 'Scottish Longbreads', 'Gorgonzola Telino', 'Perth Pasties', 'Manjimup Dried Apples', 'Ikura']}, 'Palle Ibsen': {'how_many_7': 1, 'how_many_different_products': 23, 'products_ordered': ['Sasquatch Ale', 'Tourti\u00e8re', 'Louisiana Fiery Hot Pepper Sauce', 'Original Frankfurter gr\u00fcne So\u00dfe', 'Scottish Longbreads', 'Flotemysost', 'Lakkalik\u00f6\u00f6ri', 'Guaran\u00e1 Fant\u00e1stica', 'Th\u00fcringer Rostbratwurst', 'Boston Crab Meat', 'Rogede sild', 'Valkoinen suklaa', 'Aniseed Syrup', \"Uncle Bob's Organic Dried Pears\", 'Ikura', 'R\u00f6ssle Sauerkraut', \"Jack's New England Clam Chowder\", 'Filo Mix', \"Sirop d'\u00e9rable\", 'Tarte au sucre', 'Steeleye Stout', 'Vegie-spread', 'Raclette Courdavault']}, 'Jose Pavarotti': {'how_many_7': 1, 'how_many_different_products': 53, 'products_ordered': ['Pavlova', 'Steeleye Stout', 'Spegesild', 'Raclette Courdavault', 'Vegie-spread', 'Chang', 'Tofu', 'NuNuCa Nu\u00df-Nougat-Creme', 'Gumb\u00e4r Gummib\u00e4rchen', 'Gorgonzola Telino', 'P\u00e2t\u00e9 chinois', 'Th\u00fcringer Rostbratwurst', \"Sirop d'\u00e9rable\", 'R\u00f6ssle Sauerkraut', 'Gula Malacca', 'Rh\u00f6nbr\u00e4u Klosterbier', 'Teatime Chocolate Biscuits', 'Guaran\u00e1 Fant\u00e1stica', 'Manjimup Dried Apples', 'Gnocchi di nonna Alice', \"Gustaf's Kn\u00e4ckebr\u00f6d\", 'Maxilaku', \"Uncle Bob's Organic Dried Pears\", 'Alice Mutton', 'Geitost', 'Boston Crab Meat', 'Mozzarella di Giovanni', 'Ikura', 'Inlagd Sill', 'Camembert Pierrot', 'Lakkalik\u00f6\u00f6ri', 'Tarte au sucre', 'R\u00f6d Kaviar', 'Genen Shouyu', \"Jack's New England Clam Chowder\", 'Zaanse koeken', 'Queso Manchego La Pastora', 'Tourti\u00e8re', 'Chai', 'Sasquatch Ale', 'Scottish Longbreads', 'Flotemysost', 'Perth Pasties', 'Rogede sild', 'Escargots de Bourgogne', 'Tunnbr\u00f6d', 'Wimmers gute Semmelkn\u00f6del', 'Gravad lax', 'Singaporean Hokkien Fried Mee', 'Konbu', 'Gudbrandsdalsost', 'Ravioli Angelo', \"Chef Anton's Gumbo Mix\"]}, 'Martine Ranc\u00e9': {'how_many_7': 1, 'how_many_different_products': 15, 'products_ordered': []}, 'Mary Saveley': {'how_many_7': 2, 'how_many_different_products': 22, 'products_ordered': [\"Gustaf's Kn\u00e4ckebr\u00f6d\", 'Ravioli Angelo', 'Louisiana Fiery Hot Pepper Sauce', 'Filo Mix', 'Scottish Longbreads', 'Ikura', 'Tourti\u00e8re', \"Uncle Bob's Organic Dried Pears\", 'Spegesild', 'Mozzarella di Giovanni', 'Steeleye Stout', 'Tarte au sucre', 'Chang', 'Longlife Tofu', \"Jack's New England Clam Chowder\", 'Ipoh Coffee', 'Chocolade', \"Sirop d'\u00e9rable\", 'Manjimup Dried Apples', 'NuNuCa Nu\u00df-Nougat-Creme', 'Geitost', 'Outback Lager']}, 'Jonas Bergulfsen': {'how_many_7': 1, 'how_many_different_products': 15, 'products_ordered': ['Guaran\u00e1 Fant\u00e1stica', 'R\u00f6ssle Sauerkraut', 'Raclette Courdavault', 'Flotemysost', 'Perth Pasties', 'Carnarvon Tigers', 'Teatime Chocolate Biscuits', 'Steeleye Stout', 'C\u00f4te de Blaye', 'Ipoh Coffee', \"Uncle Bob's Organic Dried Pears\", 'Pavlova', \"Jack's New England Clam Chowder\", 'Nord-Ost Matjeshering', 'Original Frankfurter gr\u00fcne So\u00dfe']}}"
       ]
      },
      {
       "output_type": "stream",
       "stream": "stdout",
       "text": [
        "\n"
       ]
      }
     ],
     "prompt_number": 31
    },
    {
     "cell_type": "raw",
     "metadata": {},
     "source": [
      "This exercise could be unterstood in two ways. First, to find the list of distinct products who have also bought the Pears. The second way is to find the list of customers and associate the list of products they have bought to each of them. The solution to the fist way is presented below, while the solution to the second one is commented out."
     ]
    },
    {
     "cell_type": "code",
     "collapsed": false,
     "input": [
      "# Dictionary associating each customer to the number of distinct products they have bought\n",
      "distinct_products_counter_by_customer = {key:0 for key in bobs_customer_list}\n",
      "# Dictionary associating each customer to the set products they have bought\n",
      "distinct_products_by_customer = {key:set() for key in bobs_customer_list}\n",
      "# set that will be associated to the dict above\n",
      "distinct_products_in_set = set()\n",
      "\n",
      "distinct_products_in_set_count = 0\n",
      "\n",
      "for customer in bobs_customer_set:\n",
      "    for order in orders.find({'CustomerID': customer}):\n",
      "        for order_detail in order_details.find({'OrderID': order['OrderID']}):\n",
      "            if not order_detail['ProductID'] in distinct_products_by_customer[customer]:\n",
      "                distinct_products_counter_by_customer[customer] += 1\n",
      "                distinct_products_by_customer[customer].add(order_detail['ProductID'])\n",
      "            if not order_detail['ProductID'] in distinct_products_in_set:\n",
      "                distinct_products_in_set.add(order_detail['ProductID'])\n",
      "                distinct_products_in_set_count += 1\n",
      "'''                \n",
      "for customer in bobs_customer_set:\n",
      "    print(customers.find_one({'CustomerID': customer})['ContactName'])\n",
      "    print('\\t has bought {} distinct products:'.format(distinct_products_counter_by_customer[customer]))\n",
      "    for product in distinct_products_by_customer[customer]:\n",
      "        print('\\t\\t' + products.find_one({'ProductID': product})['ProductName'])\n",
      "'''\n",
      "\n",
      "print('The customers who have bought Uncle Bob\u2019s Organic Dried Pears have bought {} distinct products:'.format(distinct_products_in_set_count))\n",
      "for product in distinct_products_in_set:\n",
      "    print(products.find_one({'ProductID': product})['ProductName'])\n"
     ],
     "language": "python",
     "metadata": {},
     "outputs": [
      {
       "output_type": "stream",
       "stream": "stdout",
       "text": [
        "The customers who have bought Uncle Bob\u2019s Organic Dried Pears have bought 76 distinct products:\n",
        "Chai\n",
        "Chang\n",
        "Aniseed Syrup\n",
        "Chef Anton's Cajun Seasoning\n",
        "Chef Anton's Gumbo Mix\n",
        "Grandma's Boysenberry Spread\n",
        "Uncle Bob's Organic Dried Pears\n",
        "Northwoods Cranberry Sauce\n",
        "Mishi Kobe Niku\n",
        "Ikura\n",
        "Queso Cabrales\n",
        "Queso Manchego La Pastora\n",
        "Konbu\n",
        "Tofu\n",
        "Genen Shouyu\n",
        "Pavlova\n",
        "Alice Mutton\n",
        "Carnarvon Tigers\n",
        "Teatime Chocolate Biscuits\n",
        "Sir Rodney's Marmalade\n",
        "Sir Rodney's Scones\n",
        "Gustaf's Kn\u00e4ckebr\u00f6d\n",
        "Tunnbr\u00f6d\n",
        "Guaran\u00e1 Fant\u00e1stica\n",
        "NuNuCa Nu\u00df-Nougat-Creme\n",
        "Gumb\u00e4r Gummib\u00e4rchen\n",
        "Schoggi Schokolade\n",
        "R\u00f6ssle Sauerkraut\n",
        "Th\u00fcringer Rostbratwurst\n",
        "Nord-Ost Matjeshering\n",
        "Gorgonzola Telino\n",
        "Mascarpone Fabioli\n",
        "Geitost\n",
        "Sasquatch Ale\n",
        "Steeleye Stout\n",
        "Inlagd Sill\n",
        "Gravad lax\n",
        "C\u00f4te de Blaye\n",
        "Chartreuse verte\n",
        "Boston Crab Meat\n",
        "Jack's New England Clam Chowder\n",
        "Singaporean Hokkien Fried Mee\n",
        "Ipoh Coffee\n",
        "Gula Malacca\n",
        "Rogede sild\n",
        "Spegesild\n",
        "Zaanse koeken\n",
        "Chocolade\n",
        "Maxilaku\n",
        "Valkoinen suklaa\n",
        "Manjimup Dried Apples\n",
        "Filo Mix\n",
        "Perth Pasties\n",
        "Tourti\u00e8re\n",
        "P\u00e2t\u00e9 chinois\n",
        "Gnocchi di nonna Alice\n",
        "Ravioli Angelo\n",
        "Escargots de Bourgogne\n",
        "Raclette Courdavault\n",
        "Camembert Pierrot\n",
        "Sirop d'\u00e9rable\n",
        "Tarte au sucre\n",
        "Vegie-spread\n",
        "Wimmers gute Semmelkn\u00f6del\n",
        "Louisiana Fiery Hot Pepper Sauce\n",
        "Louisiana Hot Spiced Okra"
       ]
      },
      {
       "output_type": "stream",
       "stream": "stdout",
       "text": [
        "\n",
        "Scottish Longbreads\n",
        "Gudbrandsdalsost\n",
        "Outback Lager\n",
        "Flotemysost\n",
        "Mozzarella di Giovanni\n",
        "R\u00f6d Kaviar\n",
        "Longlife Tofu\n",
        "Rh\u00f6nbr\u00e4u Klosterbier\n",
        "Lakkalik\u00f6\u00f6ri\n",
        "Original Frankfurter gr\u00fcne So\u00dfe\n"
       ]
      }
     ],
     "prompt_number": 35
    },
    {
     "cell_type": "heading",
     "level": 2,
     "metadata": {},
     "source": [
      "Exercise 5.6"
     ]
    },
    {
     "cell_type": "raw",
     "metadata": {},
     "source": [
      "Of those products ordered by customers who have also ordered \u201cUncle Bob\u2019s Organic Dried Pears\u201d, which one has been ordered the most (by the same set of customers).\n",
      "\n",
      "Our fisrt approach to solving this problem involved executing a query for each product - customer pair in order to sum all of the quantities:\n",
      "    \n",
      "    SELECT pd.ProductID, od.Quantity, pd.ProductName FROM 'Order Details' od\n",
      "                   LEFT JOIN Products pd ON od.ProductID = pd.ProductID\n",
      "                   LEFT JOIN Orders o ON o.OrderID = od.OrderID\n",
      "                   WHERE pd.ProductID = {} AND o.CustomerID = '{}';\n",
      "    is executed for each element in a list of products bought by each customer who also bought Uncle Bob's pears.\n",
      "    ProductID and CustomerID from those lists are substituted for {} in the query using string format function in Python.\n",
      "    A dictionary containig ProductIDs and ProductNames is also created in order to limit the number of additional queries.\n",
      "\n",
      "Our second attempt uses only one query to acomplish that, thanks to nested SELECT statements. First select gets a table with the customers who have bought the Pears. We then join that table with the Orders and Order Details in order to be able to sum all of the quantities and GROUP them by distinct ProductIDs"
     ]
    },
    {
     "cell_type": "code",
     "collapsed": false,
     "input": [
      "product_count_sql = {key:0 for key in distinct_products_in_set}\n",
      "product_id_to_name = {key:None for key in distinct_products_in_set}\n",
      "'''\n",
      "with con:    \n",
      "    for customer in bobs_customer_set:\n",
      "        for product in distinct_products_in_set: \n",
      "            sql6 = \"SELECT pd.ProductID, od.Quantity, pd.ProductName FROM 'Order Details' od \" \\\n",
      "                   \"LEFT JOIN Products pd ON od.ProductID = pd.ProductID \" \\\n",
      "                   \"LEFT JOIN Orders o ON o.OrderID = od.OrderID \" \\\n",
      "                   \"WHERE pd.ProductID = {} AND o.CustomerID = '{}'\".format(product, customer)\n",
      "            cur.execute(sql6)\n",
      "            for record in cur.fetchall():\n",
      "                product_count_sql[product] += record[1]\n",
      "                product_id_to_name[product] = record[2]\n",
      "                \n",
      "    popular_product_sql = max(product_count_sql, key=product_count_sql.get)\n",
      "    print('{} was the most popular product, bought {} times.'\\\n",
      "          .format(product_id_to_name[popular_product_sql], product_count_sql[popular_product_sql]))\n",
      "'''\n",
      "\n",
      "with con:\n",
      "    sql_inner =  \"SELECT DISTINCT o.CustomerID as cid FROM 'Order Details' od \" \\\n",
      "            \"INNER JOIN Orders o on o.OrderID = od.OrderID WHERE od.ProductID = 7 \"\n",
      "        \n",
      "    sql6 =  \"SELECT p.ProductName, sum(od.quantity) as qty FROM \" \\\n",
      "            \"({}) \" \\\n",
      "            \"INNER JOIN Orders o ON o.CustomerID = cid \" \\\n",
      "            \"INNER JOIN 'Order Details' od ON od.OrderID = o.OrderID \" \\\n",
      "            \"LEFT JOIN Products p ON od.ProductID = p.ProductID \" \\\n",
      "            \"GROUP BY od.ProductID \" \\\n",
      "            \"ORDER BY qty DESC LIMIT 1 \"\\\n",
      "            .format(sql_inner)            \n",
      "    \n",
      "    cur.execute(sql6)\n",
      "    print(cur.fetchall())"
     ],
     "language": "python",
     "metadata": {},
     "outputs": [
      {
       "output_type": "stream",
       "stream": "stdout",
       "text": [
        "[('Camembert Pierrot', 769)]\n"
       ]
      }
     ],
     "prompt_number": 118
    },
    {
     "cell_type": "raw",
     "metadata": {},
     "source": [
      "MongoDB equivalent follows exactly the same steps to fill the product_count dictionary with ProductIDs and overall quantities that the products were bought by previously defined set of customers."
     ]
    },
    {
     "cell_type": "code",
     "collapsed": false,
     "input": [
      "product_count = {key:0 for key in distinct_products_in_set}\n",
      "\n",
      "for customer in bobs_customer_set:\n",
      "    for order in orders.find({'CustomerID': customer}):\n",
      "        for order_detail in order_details.find({'OrderID': order['OrderID']}):\n",
      "            product_count[order_detail['ProductID']] += order_detail['Quantity']\n",
      "            \n",
      "popular_product = max(product_count, key=product_count.get)\n",
      "\n",
      "print('{} was the most popular product, bought {} times.'\\\n",
      "      .format(products.find_one({'ProductID': popular_product})['ProductName'],\n",
      "              product_count[popular_product]))\n"
     ],
     "language": "python",
     "metadata": {},
     "outputs": [
      {
       "output_type": "stream",
       "stream": "stdout",
       "text": [
        "Camembert Pierrot was the most popular product, bought 769 times.\n"
       ]
      }
     ],
     "prompt_number": 37
    },
    {
     "cell_type": "heading",
     "level": 2,
     "metadata": {},
     "source": [
      "Exercise 5.7"
     ]
    },
    {
     "cell_type": "raw",
     "metadata": {},
     "source": [
      "The customer with customerID ALFKI has bought a series of products. Determine which other customers have bought most of the same products (product types \u2013 10 apples is no better than 1 apple).\n",
      "\n",
      "SQL query giving customers and their products, looks as follows:\n",
      "SELECT DISTINCT pr.ProductName, c.CompanyName FROM Products pr JOIN \"Order Details\" od\n",
      "             ON pr.ProductID = od.ProductID JOIN Orders o ON od.OrderID = o.OrderID JOIN Customers c\n",
      "             ON o.CustomerID = c.CustomerID WHERE c.CustomerID <> \"ALFKI\"\n",
      "Afterwads, a list of lists, namely people_products is filled with names and associated lists of distinct products. Similarities to ALFKI is measured by check_similarity function and placed in similarity_ranking, which is then sorted, so that the first record of it shows the most similar product list and its owner."
     ]
    },
    {
     "cell_type": "code",
     "collapsed": false,
     "input": [
      "cur.execute('SELECT DISTINCT pr.ProductName, c.CompanyName FROM Products pr JOIN \"Order Details\" od' \n",
      "            ' ON pr.ProductID = od.ProductID JOIN Orders o ON od.OrderID = o.OrderID JOIN Customers c' \n",
      "            ' ON o.CustomerID = c.CustomerID WHERE c.CustomerID <> \"ALFKI\"')\n",
      "results = cur.fetchall()\n",
      "people_products = []\n",
      "\n",
      "def in_people_products(person):\n",
      "    \"\"\"\n",
      "    Check whether a certain person is already mentioned in the people_products list.\n",
      "    :param person:\n",
      "    :return:\n",
      "    \"\"\"\n",
      "    for person_list in people_products:\n",
      "        if person in person_list:\n",
      "            return True\n",
      "    return False\n",
      "\n",
      "for result in results:\n",
      "    person = result[1]\n",
      "    if people_products == [] or in_people_products(person) == False:\n",
      "        people_products.append([person, result[0]])  # e.g. ['John Smith', 'apple', 'banana', 'peach'...]\n",
      "    else:\n",
      "        for human in people_products:\n",
      "            if human[0] == person:\n",
      "                human.append(result[0])\n",
      "similarity_ranking = []\n",
      "\n",
      "\n",
      "def check_similarity(person_list):\n",
      "    \"\"\"\n",
      "    The more products one has in common with ALFKI, the more similar his orderings are to him.\n",
      "    :param person_list:\n",
      "    :return:\n",
      "    \"\"\"\n",
      "    products_in_common = 0\n",
      "    for product in person_list:\n",
      "        if product in alfki_product_list:\n",
      "            products_in_common += 1\n",
      "    return products_in_common\n",
      "\n",
      "for person in people_products:\n",
      "     similarity_ranking.append([person[0], check_similarity(person[1:])])\n",
      "\n",
      "similarity_ranking = sorted(similarity_ranking, key=lambda x: x[1], reverse=True)  # from the most similar towards least similar\n",
      "\n",
      "print(similarity_ranking[0])\n"
     ],
     "language": "python",
     "metadata": {},
     "outputs": [
      {
       "output_type": "stream",
       "stream": "stdout",
       "text": [
        "['Rattlesnake Canyon Grocery', 9]\n"
       ]
      }
     ],
     "prompt_number": 40
    },
    {
     "cell_type": "raw",
     "metadata": {},
     "source": [
      "Mongo code checks the similarity of client by loopin over all orders of people who have bought the same products as ALFKI and adds each distinct product they share to the dictionary. At the client with the most matches is removed from the dictionary, as he is the ALFKI himself."
     ]
    },
    {
     "cell_type": "code",
     "collapsed": false,
     "input": [
      "# Dictionary associating customers to the products the bought, that were also bouth by ALFKI\n",
      "customer_product = dict()\n",
      "\n",
      "# Loop over oall of the products bouth by ALFKI\n",
      "for alfki_product in alfki_products:\n",
      "    for order_detail in order_details.find({'ProductID': alfki_product}):\n",
      "        for order in orders.find({'OrderID': order_detail['OrderID']}):\n",
      "            if order['CustomerID'] not in customer_product:\n",
      "                customer_product[order['CustomerID']] = set([order_detail['ProductID']])\n",
      "            else:\n",
      "                customer_product[order['CustomerID']].add(order_detail['ProductID'])\n",
      "\n",
      "# Dictionary associating customers with number of products they bought (products that\n",
      "# were also bouth by ALFKI\n",
      "similarity = {}\n",
      "for key in customer_product:\n",
      "    similarity[key] = len(customer_product[key])\n",
      "# Find the customerID with the most products\n",
      "similar_customer = max(similarity, key=similarity.get)\n",
      "# Remove him from the list, since ALFKI is the most similar to ALFKI\n",
      "similarity.pop(similar_customer)\n",
      "# Find the new customerID with the most products\n",
      "similar_customer = max(similarity, key=similarity.get)\n",
      "# Use the ID to find the company name\n",
      "customer_name = customers.find_one({'CustomerID': similar_customer})['CompanyName']\n",
      "print('{} has bought the most of the same products as ALFKI, which is {}.'.format(customer_name, similarity[similar_customer]))"
     ],
     "language": "python",
     "metadata": {},
     "outputs": [
      {
       "output_type": "stream",
       "stream": "stdout",
       "text": [
        "Rattlesnake Canyon Grocery has bought the most of the same products as ALFKI, which is 9.\n"
       ]
      }
     ],
     "prompt_number": 43
    },
    {
     "cell_type": "heading",
     "level": 1,
     "metadata": {},
     "source": [
      "Week 6"
     ]
    },
    {
     "cell_type": "heading",
     "level": 2,
     "metadata": {},
     "source": [
      "Exercise 6.1"
     ]
    },
    {
     "cell_type": "raw",
     "metadata": {},
     "source": [
      "We establihsh a connection to the created GraphStory account below and perform a simple query to test the connection."
     ]
    },
    {
     "cell_type": "code",
     "collapsed": false,
     "input": [
      "from py2neo import Graph, Node, Relationship\n",
      "\n",
      "# set connection information\n",
      "graph_db = Graph(db_uri)\n",
      "\n",
      "# Select a product with id: 2\n",
      "query = \"MATCH (pd:Product {productID: '2'}) \" \\\n",
      "        \"RETURN pd.productID as ID, pd.productName AS name\"\n",
      "\n",
      "print(graph_db.cypher.execute(query))"
     ],
     "language": "python",
     "metadata": {},
     "outputs": [
      {
       "output_type": "stream",
       "stream": "stdout",
       "text": [
        "   | ID | name \n",
        "---+----+-------\n",
        " 1 | 2  | Chang\n",
        "\n"
       ]
      }
     ],
     "prompt_number": 39
    },
    {
     "cell_type": "heading",
     "level": 2,
     "metadata": {},
     "source": [
      "Exercise 6.2"
     ]
    },
    {
     "cell_type": "raw",
     "metadata": {},
     "source": [
      "The customer with customerID ALFKI has made a number of orders containing some products. Return all the orders made by ALFKI and the products they contain.\n",
      "\n",
      "For this exercise we just pass the appropriate property of the :Order node. It is equivalent to using the WHERE clause."
     ]
    },
    {
     "cell_type": "code",
     "collapsed": false,
     "input": [
      "query = \"MATCH (o:Order {customerID: 'ALFKI'})-[:ORDERS]->(p:Product) \" \\\n",
      "        \"RETURN o.orderID AS OrderID, collect(p.productName) AS ProductName\"\n",
      "\n",
      "result = graph_db.cypher.execute(query)\n",
      "print(result)"
     ],
     "language": "python",
     "metadata": {},
     "outputs": [
      {
       "output_type": "stream",
       "stream": "stdout",
       "text": [
        "   | OrderID | ProductName                                                \n",
        "---+---------+-------------------------------------------------------------\n",
        " 1 | 10952   | ['R\u00f6ssle Sauerkraut', \"Grandma's Boysenberry Spread\"]      \n",
        " 2 | 10835   | ['Original Frankfurter gr\u00fcne So\u00dfe', 'Raclette Courdavault']\n",
        " 3 | 10643   | ['R\u00f6ssle Sauerkraut', 'Chartreuse verte', 'Spegesild']     \n",
        " 4 | 11011   | ['Escargots de Bourgogne', 'Flotemysost']                  \n",
        " 5 | 10702   | ['Aniseed Syrup', 'Lakkalik\u00f6\u00f6ri']                          \n",
        " 6 | 10692   | ['Vegie-spread']                                           \n",
        "\n"
       ]
      }
     ],
     "prompt_number": 44
    },
    {
     "cell_type": "heading",
     "level": 2,
     "metadata": {},
     "source": [
      "Exercise 6.3"
     ]
    },
    {
     "cell_type": "raw",
     "metadata": {},
     "source": [
      "The customer with customerID ALFKI has made a number of orders containing some products. Return orders made by ALFKI that contain at least 2 products. Also return the products.\n",
      "\n",
      "We use the same query as for the last exercise and use python to filter the results"
     ]
    },
    {
     "cell_type": "code",
     "collapsed": false,
     "input": [
      "query = \"MATCH (o:Order {customerID: 'ALFKI'})-[:ORDERS]->(p:Product) \" \\\n",
      "        \"RETURN o.orderID AS OrderID, collect(p.productName) AS ProductName\"\n",
      "\n",
      "orders = graph_db.cypher.execute(query)\n",
      "\n",
      "for order in orders:\n",
      "    if len(order[1]) >= 2:\n",
      "        print(order[0] + ' ' + str(order[1]))\n",
      "\n"
     ],
     "language": "python",
     "metadata": {},
     "outputs": [
      {
       "output_type": "stream",
       "stream": "stdout",
       "text": [
        "10952 ['R\u00f6ssle Sauerkraut', \"Grandma's Boysenberry Spread\"]\n",
        "10835 ['Original Frankfurter gr\u00fcne So\u00dfe', 'Raclette Courdavault']\n",
        "10643 ['R\u00f6ssle Sauerkraut', 'Chartreuse verte', 'Spegesild']\n",
        "11011 ['Escargots de Bourgogne', 'Flotemysost']\n",
        "10702 ['Aniseed Syrup', 'Lakkalik\u00f6\u00f6ri']\n"
       ]
      }
     ],
     "prompt_number": 45
    },
    {
     "cell_type": "heading",
     "level": 2,
     "metadata": {},
     "source": [
      "Exercise 6.4"
     ]
    },
    {
     "cell_type": "raw",
     "metadata": {},
     "source": [
      "Determine how many and who has ordered \u201cUncle Bob\u2019s Organic Dried Pears\u201d (productID 7).\n",
      "\n",
      "The key to this exercise is to pass the property to Product node and use the DISTINCT keyword to get rid of duplicate names."
     ]
    },
    {
     "cell_type": "code",
     "collapsed": false,
     "input": [
      "query = \"MATCH (c:Customer)-[:PURCHASED]->(Order)-[ORDERS]->(Product {productID: '7'}) \" \\\n",
      "        \"RETURN DISTINCT c.companyName AS Name \" \\\n",
      "        \"ORDER BY Name\"\n",
      "\n",
      "result = graph_db.cypher.execute(query)\n",
      "print('There were {} distinct customers who have ordered Uncle Bob\u2019s Organic Dried Pears:'.format(len(result)))\n",
      "print(result)"
     ],
     "language": "python",
     "metadata": {},
     "outputs": [
      {
       "output_type": "stream",
       "stream": "stdout",
       "text": [
        "There were 20 distinct customers who have ordered Uncle Bob\u2019s Organic Dried Pears:\n",
        "    | Name                      \n",
        "----+----------------------------\n",
        "  1 | B's Beverages             \n",
        "  2 | Bon app'                  \n",
        "  3 | Bottom-Dollar Markets     \n",
        "  4 | Eastern Connection        \n",
        "  5 | Ernst Handel              \n",
        "  6 | Folies gourmandes         \n",
        "  7 | Folk och f\u00e4 HB            \n",
        "  8 | Gourmet Lanchonetes       \n",
        "  9 | LILA-Supermercado         \n",
        " 10 | La corne d'abondance      \n",
        " 11 | Oc\u00e9ano Atl\u00e1ntico Ltda.    \n",
        " 12 | Ottilies K\u00e4seladen        \n",
        " 13 | QUICK-Stop                \n",
        " 14 | Rattlesnake Canyon Grocery\n",
        " 15 | Reggiani Caseifici        \n",
        " 16 | Sant\u00e9 Gourmet             \n",
        " 17 | Save-a-lot Markets        \n",
        " 18 | Split Rail Beer & Ale     \n",
        " 19 | Vaffeljernet              \n",
        " 20 | Victuailles en stock      \n",
        "\n"
       ]
      }
     ],
     "prompt_number": 46
    },
    {
     "cell_type": "heading",
     "level": 2,
     "metadata": {},
     "source": [
      "Exercise 6.5"
     ]
    },
    {
     "cell_type": "raw",
     "metadata": {},
     "source": [
      "How many different and which products have been ordered by customers who have also ordered \u201cUncle Bob\u2019s Organic Dried Pears\u201d?\n",
      "\n",
      "In our first approach (commented out) we queried each customer in the list created above for products they have ordered, and added those to the set of products. Then we used python to count items in the set.\n",
      "\n",
      "In our second approach (the output of which is presented) we modify the query to MATCH additional Paths. This query retutns all paths that lead from the product with ID = 7 through Orders, Customers, Orders again back to Products. That we we have all of the products requested in this exercise and ca use DISTINCT keyword to get rid of the duplicates."
     ]
    },
    {
     "cell_type": "code",
     "collapsed": false,
     "input": [
      "''' FIRST APPROACH\n",
      "query = \"MATCH (o:Order)-[details:ORDERS]->(p:Product {productID: '7'}) \" \\\n",
      "        \"RETURN DISTINCT o.customerID AS cid\"\n",
      "    \n",
      "customer_list = graph_db.cypher.execute(query)\n",
      "\n",
      "products_set = set()\n",
      "\n",
      "for customer in customer_list:\n",
      "    \n",
      "    query = \"MATCH (o:Order {customerID: {customer}})-[details:ORDERS]->(p:Product) \" \\\n",
      "            \"RETURN DISTINCT p.productName \" \\\n",
      "            \"ORDER BY p.productName\"\n",
      "    products = graph_db.cypher.execute(query, customer=customer[0])\n",
      "    \n",
      "    for product in products:\n",
      "        products_set.add(product[0])\n",
      "    \n",
      "# print(len(products_set))\n",
      "# print(products_set)\n",
      "'''\n",
      "\n",
      "# SECOND APPROACH\n",
      "query = \"MATCH (p:Product)<--(Order)<--(Customer)-[:PURCHASED]->(:Order)-[:ORDERS]->(Product {productID: '7'}) \" \\\n",
      "        \"RETURN DISTINCT p.productName \" \\\n",
      "        \"ORDER BY p.productName\"\n",
      "        \n",
      "products = graph_db.cypher.execute(query)\n",
      "\n",
      "print('Customers who ordered Uncle Bob\u2019s Organic Dried Pears have ordered {} '\\\n",
      "      'distinct products:'.format(len(products)))\n",
      "print(products)"
     ],
     "language": "python",
     "metadata": {},
     "outputs": [
      {
       "output_type": "stream",
       "stream": "stdout",
       "text": [
        "Customers who ordered Uncle Bob\u2019s Organic Dried Pears have ordered 76 distinct products:\n",
        "    | p.productName                   \n",
        "----+----------------------------------\n",
        "  1 | Alice Mutton                    \n",
        "  2 | Aniseed Syrup                   \n",
        "  3 | Boston Crab Meat                \n",
        "  4 | Camembert Pierrot               \n",
        "  5 | Carnarvon Tigers                \n",
        "  6 | Chai                            \n",
        "  7 | Chang                           \n",
        "  8 | Chartreuse verte                \n",
        "  9 | Chef Anton's Cajun Seasoning    \n",
        " 10 | Chef Anton's Gumbo Mix          \n",
        " 11 | Chocolade                       \n",
        " 12 | C\u00f4te de Blaye                   \n",
        " 13 | Escargots de Bourgogne          \n",
        " 14 | Filo Mix                        \n",
        " 15 | Flotemysost                     \n",
        " 16 | Geitost                         \n",
        " 17 | Genen Shouyu                    \n",
        " 18 | Gnocchi di nonna Alice          \n",
        " 19 | Gorgonzola Telino               \n",
        " 20 | Grandma's Boysenberry Spread    \n",
        " 21 | Gravad lax                      \n",
        " 22 | Guaran\u00e1 Fant\u00e1stica              \n",
        " 23 | Gudbrandsdalsost                \n",
        " 24 | Gula Malacca                    \n",
        " 25 | Gumb\u00e4r Gummib\u00e4rchen             \n",
        " 26 | Gustaf's Kn\u00e4ckebr\u00f6d             \n",
        " 27 | Ikura                           \n",
        " 28 | Inlagd Sill                     \n",
        " 29 | Ipoh Coffee                     \n",
        " 30 | Jack's New England Clam Chowder \n",
        " 31 | Konbu                           \n",
        " 32 | Lakkalik\u00f6\u00f6ri                    \n",
        " 33 | Longlife Tofu                   \n",
        " 34 | Louisiana Fiery Hot Pepper Sauce\n",
        " 35 | Louisiana Hot Spiced Okra       \n",
        " 36 | Manjimup Dried Apples           \n",
        " 37 | Mascarpone Fabioli              \n",
        " 38 | Maxilaku                        \n",
        " 39 | Mishi Kobe Niku                 \n",
        " 40 | Mozzarella di Giovanni          \n",
        " 41 | Nord-Ost Matjeshering           \n",
        " 42 | Northwoods Cranberry Sauce      \n",
        " 43 | NuNuCa Nu\u00df-Nougat-Creme         \n",
        " 44 | Original Frankfurter gr\u00fcne So\u00dfe \n",
        " 45 | Outback Lager                   \n",
        " 46 | Pavlova                         \n",
        " 47 | Perth Pasties                   \n",
        " 48 | P\u00e2t\u00e9 chinois                    \n",
        " 49 | Queso Cabrales                  \n",
        " 50 | Queso Manchego La Pastora       \n",
        " 51 | Raclette Courdavault            \n",
        " 52 | Ravioli Angelo                  \n",
        " 53 | Rh\u00f6nbr\u00e4u Klosterbier            \n",
        " 54 | Rogede sild                     \n",
        " 55 | R\u00f6d Kaviar                      \n",
        " 56 | R\u00f6ssle Sauerkraut               \n",
        " 57 | Sasquatch Ale                   \n",
        " 58 | Schoggi Schokolade              \n",
        " 59 | Scottish Longbreads             \n",
        " 60 | Singaporean Hokkien Fried Mee   \n",
        " 61 | Sir Rodney's Marmalade          \n",
        " 62 | Sir Rodney's Scones             \n",
        " 63 | Sirop d'\u00e9rable                  \n",
        " 64 | Spegesild                       \n",
        " 65 | Steeleye Stout                  \n",
        " 66 | Tarte au sucre                  \n",
        " 67 | Teatime Chocolate Biscuits      \n",
        " 68 | Th\u00fcringer Rostbratwurst         \n",
        " 69 | Tofu                            \n",
        " 70 | Tourti\u00e8re                       \n",
        " 71 | Tunnbr\u00f6d                        \n",
        " 72 | Uncle Bob's Organic Dried Pears \n",
        " 73 | Valkoinen suklaa                \n",
        " 74 | Vegie-spread                    \n",
        " 75 | Wimmers gute Semmelkn\u00f6del       \n",
        " 76 | Zaanse koeken                   \n",
        "\n"
       ]
      }
     ],
     "prompt_number": 47
    },
    {
     "cell_type": "heading",
     "level": 2,
     "metadata": {},
     "source": [
      "Exercise 6.6"
     ]
    },
    {
     "cell_type": "raw",
     "metadata": {},
     "source": [
      "Of those products ordered by customers who have also ordered \u201cUncle Bob\u2019s Organic Dried Pears\u201d, which one has been ordered the most (by the same set of customers).\n",
      "\n",
      "We start with the same set of Paths as for the previous exercise and use WITH clause and collect statement to group distinct orders containig specified product. Then we sum each quantity property of the relationship between those products and the orders that contain them. Our result is then sorted and set to display only one record."
     ]
    },
    {
     "cell_type": "code",
     "collapsed": false,
     "input": [
      "query = \"MATCH (p:Product)<-[details:ORDERS]-(o:Order)<-[:PURCHASED]-(Customer)-[:PURCHASED]->\"\\\n",
      "        \"(:Order)-[d:ORDERS]->(Product {productID: '7'}) \" \\\n",
      "        \"WITH p, collect(distinct(o)) as co, details \" \\\n",
      "        \"RETURN p.productName, sum(details.quantity) as qty \" \\\n",
      "        \"ORDER BY qty desc LIMIT 1\"\n",
      "        \n",
      "products = graph_db.cypher.execute(query)\n",
      "print(products)"
     ],
     "language": "python",
     "metadata": {},
     "outputs": [
      {
       "output_type": "stream",
       "stream": "stdout",
       "text": [
        "   | p.productName     | qty\n",
        "---+-------------------+-----\n",
        " 1 | Camembert Pierrot | 749\n",
        "\n"
       ]
      }
     ],
     "prompt_number": 48
    },
    {
     "cell_type": "heading",
     "level": 2,
     "metadata": {},
     "source": [
      "Exercise 6.7"
     ]
    },
    {
     "cell_type": "raw",
     "metadata": {},
     "source": [
      "The customer with customerID ALFKI has bought a series of products. Determine which other customers have bought most of the same products.\n",
      "\n",
      "We modify the query from exercise 6.2 to include additional paths to Product node (from Customer throught Order). Then we can count the distinct occurances of products in orders made by each Customer."
     ]
    },
    {
     "cell_type": "code",
     "collapsed": false,
     "input": [
      "query = \"MATCH (o:Order {customerID: 'ALFKI'})-[:ORDERS]->(p:Product)<--(o2:Order)<--(c:Customer)\" \\\n",
      "        \"RETURN c.companyName, count(DISTINCT p.productID) as cnt \" \\\n",
      "        \"ORDER BY cnt DESC LIMIT 1\"\n",
      "\n",
      "result = graph_db.cypher.execute(query)\n",
      "print(result)"
     ],
     "language": "python",
     "metadata": {},
     "outputs": [
      {
       "output_type": "stream",
       "stream": "stdout",
       "text": [
        "   | c.companyName              | cnt\n",
        "---+----------------------------+-----\n",
        " 1 | Rattlesnake Canyon Grocery |   9\n",
        "\n"
       ]
      }
     ],
     "prompt_number": 49
    },
    {
     "cell_type": "code",
     "collapsed": false,
     "input": [],
     "language": "python",
     "metadata": {},
     "outputs": []
    }
   ],
   "metadata": {}
  }
 ]
}