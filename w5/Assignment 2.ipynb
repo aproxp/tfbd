{
 "metadata": {
  "name": "Assignment 2"
 },
 "nbformat": 3,
 "nbformat_minor": 0,
 "worksheets": [
  {
   "cells": [
    {
     "cell_type": "heading",
     "level": 1,
     "metadata": {},
     "source": "Assignment 2"
    },
    {
     "cell_type": "code",
     "collapsed": false,
     "input": "import os\nos.chdir('/home/aproxp/aproxp@gmail.com/studia/dtu/tfbd/repo/w5')\n",
     "language": "python",
     "metadata": {},
     "outputs": [],
     "prompt_number": 24
    },
    {
     "cell_type": "heading",
     "level": 2,
     "metadata": {},
     "source": "Exercise 5.1"
    },
    {
     "cell_type": "raw",
     "metadata": {},
     "source": "For SQLite: Establish connection to this database in Python (use the sqlite3 module). Document the connection by making some simple queries.\n\nFor Mongo: To get started, clone this repository into your working directory. Start a running instance of MongoDB* (on command-line: mongod), then run the .sh file in a terminal. This should create a live Mongo database named \u2018Northwind\u2019 that you can connect to in Python. Document the connection by making some simple queries."
    },
    {
     "cell_type": "code",
     "collapsed": false,
     "input": "import sqlite3 as lite\n\ncon = None\n\ntry:\n    con = lite.connect('northwind.db')\n    con.text_factory = lambda x: str(x, 'latin1')\n    cur = con.cursor()\n    sql = \"select products.productname from products\"\n    cur.execute(sql)\n\n    # Print the first product to test the connection\n    print(cur.fetchone())\n\nfinally:\n    if con:\n        con.close()",
     "language": "python",
     "metadata": {},
     "outputs": [
      {
       "output_type": "stream",
       "stream": "stdout",
       "text": "('Chai',)\n"
      }
     ],
     "prompt_number": 29
    },
    {
     "cell_type": "code",
     "collapsed": false,
     "input": "from pymongo import MongoClient\n\n# Connect to the database\nclient = MongoClient()\ndb = client['Northwind']\nproducts = db.products\n\n# Simple queries to prove that the connection is working\nprint(db.collection_names())\nprint(products.count())\nprint(products.find_one())",
     "language": "python",
     "metadata": {},
     "outputs": [
      {
       "output_type": "stream",
       "stream": "stdout",
       "text": "['system.indexes', 'categories', 'customers', 'employees', 'employee-territories', 'northwind', 'order-details', 'orders', 'products', 'regions', 'shippers', 'suppliers', 'territories']\n77\n{'ReorderLevel': 10, 'QuantityPerUnit': '10 boxes x 20 bags', 'Discontinued': 0, 'ProductID': 1, 'ProductName': 'Chai', 'UnitPrice': 18.0, 'SupplierID': 1, 'CategoryID': 1, 'UnitsInStock': 39, '_id': ObjectId('560a84b45e6e5d9c4e4bd84f'), 'UnitsOnOrder': 0}\n"
      }
     ],
     "prompt_number": 13
    },
    {
     "cell_type": "heading",
     "level": 2,
     "metadata": {},
     "source": "Exercise 5.2"
    },
    {
     "cell_type": "raw",
     "metadata": {},
     "source": "The customer with customerID ALFKI has made a number of orders containing some products. Query for, and return, all orders made by ALFKI and the products they contain."
    },
    {
     "cell_type": "code",
     "collapsed": false,
     "input": "try:\n    con = lite.connect('northwind.db')\n    con.text_factory = lambda x: str(x, 'latin1')\n    cur = con.cursor()\n    sql = \"select products.productname, 'order details'.orderid from 'order details'\" \\\n          \"left join products on products.productid = 'order details'.productid \" \\\n          \"left join orders on 'order details'.orderid = orders.orderid \" \\\n          \"left join customers on customers.customerid = orders.customerid \" \\\n          \"where customers.customerid = 'ALFKI'\"\n    cur.execute(sql)\n    all_data = cur.fetchall()\n\n    print(all_data)\n\nfinally:\n    if con:\n        con.close()",
     "language": "python",
     "metadata": {},
     "outputs": [
      {
       "output_type": "stream",
       "stream": "stdout",
       "text": "[('R\u00f6ssle Sauerkraut', 10643), ('Chartreuse verte', 10643), ('Spegesild', 10643), ('Vegie-spread', 10692), ('Aniseed Syrup', 10702), ('Lakkalik\u00f6\u00f6ri', 10702), ('Raclette Courdavault', 10835), ('Original Frankfurter gr\u00fcne So\u00dfe', 10835), (\"Grandma's Boysenberry Spread\", 10952), ('R\u00f6ssle Sauerkraut', 10952), ('Escargots de Bourgogne', 11011), ('Flotemysost', 11011)]\n"
      }
     ],
     "prompt_number": 27
    },
    {
     "cell_type": "code",
     "collapsed": false,
     "input": "# Create new collections of documents\ncustomers = db.customers\norders = db.orders\norder_details = db['order-details']\n\n# Set below is needed in 5.7\nalfki_products = set()\n\n# Iterate over all orders where the CustomerID is\n# ALFKI, and then match ProductID in order-details\n# to the one products\nfor order in orders.find({\"CustomerID\": \"ALFKI\"}):\n    print('Order ID: {}'.format(order['OrderID']))\n    for order_detail in order_details.find({\"OrderID\": order['OrderID']}):\n        print('\\t' + str(products.find_one({\"ProductID\": order_detail[\"ProductID\"]})['ProductName']))\n        if not order_detail['ProductID'] in alfki_products:\n            alfki_products.add(order_detail['ProductID'])\n    ",
     "language": "python",
     "metadata": {},
     "outputs": [
      {
       "output_type": "stream",
       "stream": "stdout",
       "text": "Order ID: 10643\n\tR\u00f6ssle Sauerkraut\n\tChartreuse verte\n\tSpegesild\nOrder ID: 10692\n\tVegie-spread\nOrder ID: 10702\n\tAniseed Syrup\n\tLakkalik\u00f6\u00f6ri\nOrder ID: 10835\n\tRaclette Courdavault\n\tOriginal Frankfurter gr\u00fcne So\u00dfe\nOrder ID: 10952\n\tGrandma's Boysenberry Spread\n\tR\u00f6ssle Sauerkraut\nOrder ID: 11011\n\tEscargots de Bourgogne\n\tFlotemysost\n"
      }
     ],
     "prompt_number": 177
    },
    {
     "cell_type": "heading",
     "level": 2,
     "metadata": {},
     "source": "Exercise 5.3"
    },
    {
     "cell_type": "raw",
     "metadata": {},
     "source": "Get all orders (with products) made by ALFKI that contain at least 2 product types."
    },
    {
     "cell_type": "code",
     "collapsed": false,
     "input": "for order in orders.find({\"CustomerID\": \"ALFKI\"}):\n    if order_details.find({'OrderID': order['OrderID']}).count() >= 2:\n        print('Order ID: {}'.format(order['OrderID']))\n        for order_detail in order_details.find({\"OrderID\": order['OrderID']}):\n            print('\\t' + products.find_one({\"ProductID\": order_detail[\"ProductID\"]})['ProductName'])\n    ",
     "language": "python",
     "metadata": {},
     "outputs": [
      {
       "output_type": "stream",
       "stream": "stdout",
       "text": "Order ID: 10643\n\tR\u00f6ssle Sauerkraut\n\tChartreuse verte\n\tSpegesild\nOrder ID: 10702\n\tAniseed Syrup\n\tLakkalik\u00f6\u00f6ri\nOrder ID: 10835\n\tRaclette Courdavault\n\tOriginal Frankfurter gr\u00fcne So\u00dfe\nOrder ID: 10952\n\tGrandma's Boysenberry Spread\n\tR\u00f6ssle Sauerkraut\nOrder ID: 11011\n\tEscargots de Bourgogne\n\tFlotemysost\n"
      }
     ],
     "prompt_number": 65
    },
    {
     "cell_type": "heading",
     "level": 2,
     "metadata": {},
     "source": "Exercise 5.4"
    },
    {
     "cell_type": "raw",
     "metadata": {},
     "source": "Determine how many and who ordered \u201cUncle Bob\u2019s Organic Dried Pears\u201d (productID 7)."
    },
    {
     "cell_type": "code",
     "collapsed": false,
     "input": "bobs_count = 0\nbobs_customer_list = []\nbobs_name_list = []\nfor order_detail in order_details.find({'ProductID': 7}):\n    for order in orders.find({'OrderID': order_detail['OrderID']}):\n        if not order['CustomerID'] in bobs_customer_list:\n            bobs_count = bobs_count + 1\n            bobs_customer_list.append(order['CustomerID'])\n            \nfor customer in bobs_customer_list:\n    print(customers.find_one({'CustomerID': customer})['ContactName'])\nprint('There were {} distinct people who ordered Uncle Bob\u2019s Organic Dried Pears'.format(bobs_count))\n    ",
     "language": "python",
     "metadata": {},
     "outputs": [
      {
       "output_type": "stream",
       "stream": "stdout",
       "text": "Paula Wilson\nArt Braunschweiger\nMary Saveley\nVictoria Ashworth\nLaurence Lebihan\nPalle Ibsen\nJose Pavarotti\nMartine Ranc\u00e9\nHorst Kloss\nHenriette Pfalzheim\nAndr\u00e9 Fonseca\nDaniel Tonini\nMaurizio Moroni\nJonas Bergulfsen\nYvonne Moncada\nRoland Mendel\nElizabeth Lincoln\nAnn Devon\nMaria Larsson\nCarlos Gonz\u00e1lez\nThere were 20 distinct people who ordered Uncle Bob\u2019s Organic Dried Pears\n"
      }
     ],
     "prompt_number": 95
    },
    {
     "cell_type": "heading",
     "level": 2,
     "metadata": {},
     "source": "Exercise 5.5"
    },
    {
     "cell_type": "raw",
     "metadata": {},
     "source": "How many different and which products have been ordered by customers who have also ordered \u201cUncle Bob\u2019s Organic Dried Pears\u201d?"
    },
    {
     "cell_type": "code",
     "collapsed": false,
     "input": "distinct_products_counter_by_customer = {key:0 for key in bobs_customer_list}\ndistinct_products_by_customer = {key:set() for key in bobs_customer_list}\ndistinct_products_in_set = set()\ndistinct_products_in_set_count = 0\n\nfor customer in bobs_customer_list:\n    for order in orders.find({'CustomerID': customer}):\n        for order_detail in order_details.find({'OrderID': order['OrderID']}):\n            if not order_detail['ProductID'] in distinct_products_by_customer[customer]:\n                distinct_products_counter_by_customer[customer] += 1\n                distinct_products_by_customer[customer].add(order_detail['ProductID'])\n            if not order_detail['ProductID'] in distinct_products_in_set:\n                distinct_products_in_set.add(order_detail['ProductID'])\n                distinct_products_in_set_count += 1\n'''                \nfor customer in bobs_customer_list:\n    print(customers.find_one({'CustomerID': customer})['ContactName'])\n    print('\\t has bought {} distinct products:'.format(distinct_products_counter_by_customer[customer]))\n    for product in distinct_products_by_customer[customer]:\n        print('\\t\\t' + products.find_one({'ProductID': product})['ProductName'])\n'''\n\nprint('The customers who have bought Uncl... have bought {} distinct products:'.format(distinct_products_in_set_count))\nfor product in distinct_products_in_set:\n    print(products.find_one({'ProductID': product})['ProductName'])\n",
     "language": "python",
     "metadata": {},
     "outputs": [
      {
       "output_type": "stream",
       "stream": "stdout",
       "text": "The customers who have bought Uncl... have bought 76 distinct products:\nChai\nChang\nAniseed Syrup\nChef Anton's Cajun Seasoning\nChef Anton's Gumbo Mix\nGrandma's Boysenberry Spread\nUncle Bob's Organic Dried Pears\nNorthwoods Cranberry Sauce\nMishi Kobe Niku\nIkura\nQueso Cabrales\nQueso Manchego La Pastora\nKonbu\nTofu\nGenen Shouyu\nPavlova\nAlice Mutton\nCarnarvon Tigers\nTeatime Chocolate Biscuits\nSir Rodney's Marmalade\nSir Rodney's Scones\nGustaf's Kn\u00e4ckebr\u00f6d\nTunnbr\u00f6d\nGuaran\u00e1 Fant\u00e1stica\nNuNuCa Nu\u00df-Nougat-Creme\nGumb\u00e4r Gummib\u00e4rchen\nSchoggi Schokolade\nR\u00f6ssle Sauerkraut\nTh\u00fcringer Rostbratwurst\nNord-Ost Matjeshering\nGorgonzola Telino\nMascarpone Fabioli\nGeitost\nSasquatch Ale\nSteeleye Stout\nInlagd Sill\nGravad lax\nC\u00f4te de Blaye\nChartreuse verte\nBoston Crab Meat\nJack's New England Clam Chowder\nSingaporean Hokkien Fried Mee\nIpoh Coffee\nGula Malacca\nRogede sild\nSpegesild\nZaanse koeken\nChocolade\nMaxilaku\nValkoinen suklaa\nManjimup Dried Apples\nFilo Mix\nPerth Pasties\nTourti\u00e8re\nP\u00e2t\u00e9 chinois\nGnocchi di nonna Alice\nRavioli Angelo\nEscargots de Bourgogne\nRaclette Courdavault\nCamembert Pierrot\nSirop d'\u00e9rable\nTarte au sucre\nVegie-spread\nWimmers gute Semmelkn\u00f6del\nLouisiana Fiery Hot Pepper Sauce\nLouisiana Hot Spiced Okra\nScottish Longbreads\nGudbrandsdalsost\nOutback Lager\nFlotemysost\nMozzarella di Giovanni\nR\u00f6d Kaviar\nLonglife Tofu\nRh\u00f6nbr\u00e4u Klosterbier\nLakkalik\u00f6\u00f6ri\nOriginal Frankfurter gr\u00fcne So\u00dfe\n"
      }
     ],
     "prompt_number": 180
    },
    {
     "cell_type": "code",
     "collapsed": false,
     "input": "",
     "language": "python",
     "metadata": {},
     "outputs": []
    },
    {
     "cell_type": "heading",
     "level": 2,
     "metadata": {},
     "source": "Exercise 5.6"
    },
    {
     "cell_type": "raw",
     "metadata": {},
     "source": "Of those products ordered by customers who have also ordered \u201cUncle Bob\u2019s Organic Dried Pears\u201d, which one has been ordered the most (by the same set of customers)."
    },
    {
     "cell_type": "code",
     "collapsed": false,
     "input": "product_count = {key:0 for key in distinct_products_in_set}\n\nfor customer in bobs_customer_list:\n    for order in orders.find({'CustomerID': customer}):\n        for order_detail in order_details.find({'OrderID': order['OrderID']}):\n            product_count[order_detail['ProductID']] += order_detail['Quantity']\n            \npopular_product = max(product_count, key=product_count.get)\n\nprint('{} was the most popular product, bought {} times.'.format(products.find_one({'ProductID': popular_product})['ProductName'],\n                                                          product_count[popular_product]))\n",
     "language": "python",
     "metadata": {},
     "outputs": [
      {
       "output_type": "stream",
       "stream": "stdout",
       "text": "Camembert Pierrot was the most popular product, bought 769 times.\n"
      }
     ],
     "prompt_number": 179
    },
    {
     "cell_type": "heading",
     "level": 2,
     "metadata": {},
     "source": "Exercise 5.7"
    },
    {
     "cell_type": "raw",
     "metadata": {},
     "source": "The customer with customerID ALFKI has bought a series of products. Determine which other customers have bought most of the same products (product types \u2013 10 apples is no better than 1 apple)."
    },
    {
     "cell_type": "code",
     "collapsed": false,
     "input": "from collections import defaultdict\ncustomer_product = dict()\nfor alfki_product in alfki_products:\n    for order_detail in order_details.find({'ProductID': alfki_product}):\n        for order in orders.find({'OrderID': order_detail['OrderID']}):\n            if order['CustomerID'] not in customer_product:\n                customer_product[order['CustomerID']] = set([order_detail['ProductID']])\n            else:\n                customer_product[order['CustomerID']].add(order_detail['ProductID'])\n\nsimilarity = {}\nfor key in customer_product:\n    similarity[key] = len(customer_product[key])\nsimilar_customer = max(similarity, key=similarity.get)\nprint('{} has bought the most of the same products as ALFKI, which is {}.'.format(similar_customer, similarity[similar_customer]))\nprint('Which is not surprising at all. I will leave it here as is')\nsimilarity.pop(similar_customer)\nsimilar_customer = max(similarity, key=similarity.get)\nprint('{} has bought the most of the same products as ALFKI, which is {}.'.format(similar_customer, similarity[similar_customer]))",
     "language": "python",
     "metadata": {},
     "outputs": [
      {
       "output_type": "stream",
       "stream": "stdout",
       "text": "ALFKI has bought the most of the same products as ALFKI, which is 11.\nWhich is not surprising at all. I will leave it here as is\nRATTC has bought the most of the same products as ALFKI, which is 9.\n"
      }
     ],
     "prompt_number": 178
    },
    {
     "cell_type": "code",
     "collapsed": false,
     "input": "",
     "language": "python",
     "metadata": {},
     "outputs": [],
     "prompt_number": 148
    },
    {
     "cell_type": "code",
     "collapsed": false,
     "input": "",
     "language": "python",
     "metadata": {},
     "outputs": []
    }
   ],
   "metadata": {}
  }
 ]
}