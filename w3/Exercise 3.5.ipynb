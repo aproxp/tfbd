{
 "metadata": {
  "name": "Exercise 3.5"
 },
 "nbformat": 3,
 "nbformat_minor": 0,
 "worksheets": [
  {
   "cells": [
    {
     "cell_type": "heading",
     "level": 1,
     "metadata": {},
     "source": "Exercise 3.5"
    },
    {
     "cell_type": "raw",
     "metadata": {},
     "source": "Write a simple Python function for computing the sum \\frac{1}{1^2} + \\frac{1}{2^2} + \\frac{1}{3^2} + \\ldots with 10,000 terms (this should be around 1.644), 500 times in a row (to make the execution time measurable). Now compile the code with Cython and see how much speedup you can achieve by this."
    },
    {
     "cell_type": "heading",
     "level": 2,
     "metadata": {},
     "source": "Python funtion:"
    },
    {
     "cell_type": "code",
     "collapsed": false,
     "input": "def test_fun():\n    summation = 0\n    for j in range(1, 10001):\n        summation += 1 / (j * j)\n    return summation",
     "language": "python",
     "metadata": {},
     "outputs": [],
     "prompt_number": 9
    },
    {
     "cell_type": "heading",
     "level": 2,
     "metadata": {},
     "source": "Cython:"
    },
    {
     "cell_type": "code",
     "collapsed": false,
     "input": "%load_ext cythonmagic",
     "language": "python",
     "metadata": {},
     "outputs": [],
     "prompt_number": 2
    },
    {
     "cell_type": "code",
     "collapsed": false,
     "input": "%%cython\ndef test_cfun():\n    cdef double summation,\n    cdef int i, j\n    \n    summation = 0\n    \n    for j in range(1, 10001):\n        summation += 1.0 / (j * j)\n    return summation",
     "language": "python",
     "metadata": {},
     "outputs": [],
     "prompt_number": 11
    },
    {
     "cell_type": "heading",
     "level": 2,
     "metadata": {},
     "source": "Tests:"
    },
    {
     "cell_type": "code",
     "collapsed": false,
     "input": "test_fun()",
     "language": "python",
     "metadata": {},
     "outputs": [
      {
       "metadata": {},
       "output_type": "pyout",
       "prompt_number": 10,
       "text": "1.6448340718480652"
      }
     ],
     "prompt_number": 10
    },
    {
     "cell_type": "code",
     "collapsed": false,
     "input": "test_cfun()",
     "language": "python",
     "metadata": {},
     "outputs": [
      {
       "metadata": {},
       "output_type": "pyout",
       "prompt_number": 12,
       "text": "1.6448340718480652"
      }
     ],
     "prompt_number": 12
    },
    {
     "cell_type": "code",
     "collapsed": false,
     "input": "%%timeit\nfor _ in range(500):\n    test_fun()",
     "language": "python",
     "metadata": {},
     "outputs": [
      {
       "output_type": "stream",
       "stream": "stdout",
       "text": "1 loops, best of 3: 616 ms per loop\n"
      }
     ],
     "prompt_number": 14
    },
    {
     "cell_type": "code",
     "collapsed": false,
     "input": "%%timeit\nfor _ in range(500):\n    test_cfun()",
     "language": "python",
     "metadata": {},
     "outputs": [
      {
       "output_type": "stream",
       "stream": "stdout",
       "text": "10 loops, best of 3: 27.4 ms per loop\n"
      }
     ],
     "prompt_number": 15
    },
    {
     "cell_type": "code",
     "collapsed": false,
     "input": "",
     "language": "python",
     "metadata": {},
     "outputs": []
    }
   ],
   "metadata": {}
  }
 ]
}